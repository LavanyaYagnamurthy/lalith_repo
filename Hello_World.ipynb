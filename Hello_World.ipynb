{
  "nbformat": 4,
  "nbformat_minor": 0,
  "metadata": {
    "colab": {
      "provenance": [],
      "authorship_tag": "ABX9TyNJI8N0ZSzk/sphfHHHYPU1",
      "include_colab_link": true
    },
    "kernelspec": {
      "name": "python3",
      "display_name": "Python 3"
    },
    "language_info": {
      "name": "python"
    }
  },
  "cells": [
    {
      "cell_type": "markdown",
      "metadata": {
        "id": "view-in-github",
        "colab_type": "text"
      },
      "source": [
        "<a href=\"https://colab.research.google.com/github/LavanyaYagnamurthy/lalith_repo/blob/main/Hello_World.ipynb\" target=\"_parent\"><img src=\"https://colab.research.google.com/assets/colab-badge.svg\" alt=\"Open In Colab\"/></a>"
      ]
    },
    {
      "cell_type": "code",
      "source": [
        "def sum(Input1, Input2):\n",
        "  sum = int(Input1) + int(Input2)\n",
        "  print(\"This is your sum:\")\n",
        "  return sum\n",
        "\n",
        "\n",
        "number1 = input(\"> \")\n",
        "number2 = input(\"> \")\n",
        "sum(number1, number2)"
      ],
      "metadata": {
        "id": "77BD7Ix39z83",
        "colab": {
          "base_uri": "https://localhost:8080/"
        },
        "outputId": "294e5033-5f86-45b7-be63-9114f13aa877"
      },
      "execution_count": null,
      "outputs": [
        {
          "name": "stdout",
          "output_type": "stream",
          "text": [
            "> 5\n",
            "> 10\n"
          ]
        },
        {
          "output_type": "execute_result",
          "data": {
            "text/plain": [
              "15"
            ]
          },
          "metadata": {},
          "execution_count": 4
        }
      ]
    }
  ]
}